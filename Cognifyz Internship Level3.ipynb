{
 "cells": [
  {
   "cell_type": "code",
   "execution_count": 1,
   "id": "bef365e5",
   "metadata": {},
   "outputs": [
    {
     "name": "stderr",
     "output_type": "stream",
     "text": [
      "C:\\Users\\user\\anaconda3\\lib\\site-packages\\scipy\\__init__.py:155: UserWarning: A NumPy version >=1.18.5 and <1.26.0 is required for this version of SciPy (detected version 1.26.4\n",
      "  warnings.warn(f\"A NumPy version >={np_minversion} and <{np_maxversion}\"\n"
     ]
    }
   ],
   "source": [
    "import numpy as np\n",
    "import pandas as pd\n",
    "import seaborn as sns\n",
    "import matplotlib.pyplot as plt\n",
    "import warnings\n",
    "warnings.filterwarnings('ignore')"
   ]
  },
  {
   "cell_type": "code",
   "execution_count": 2,
   "id": "565e0dd1",
   "metadata": {},
   "outputs": [
    {
     "data": {
      "text/html": [
       "<div>\n",
       "<style scoped>\n",
       "    .dataframe tbody tr th:only-of-type {\n",
       "        vertical-align: middle;\n",
       "    }\n",
       "\n",
       "    .dataframe tbody tr th {\n",
       "        vertical-align: top;\n",
       "    }\n",
       "\n",
       "    .dataframe thead th {\n",
       "        text-align: right;\n",
       "    }\n",
       "</style>\n",
       "<table border=\"1\" class=\"dataframe\">\n",
       "  <thead>\n",
       "    <tr style=\"text-align: right;\">\n",
       "      <th></th>\n",
       "      <th>Restaurant ID</th>\n",
       "      <th>Restaurant Name</th>\n",
       "      <th>Country Code</th>\n",
       "      <th>City</th>\n",
       "      <th>Address</th>\n",
       "      <th>Locality</th>\n",
       "      <th>Locality Verbose</th>\n",
       "      <th>Longitude</th>\n",
       "      <th>Latitude</th>\n",
       "      <th>Cuisines</th>\n",
       "      <th>Average Cost for two</th>\n",
       "      <th>Currency</th>\n",
       "      <th>Has Table booking</th>\n",
       "      <th>Has Online delivery</th>\n",
       "      <th>Is delivering now</th>\n",
       "      <th>Switch to order menu</th>\n",
       "      <th>Price range</th>\n",
       "      <th>Aggregate rating</th>\n",
       "      <th>Rating color</th>\n",
       "      <th>Rating text</th>\n",
       "      <th>Votes</th>\n",
       "    </tr>\n",
       "  </thead>\n",
       "  <tbody>\n",
       "    <tr>\n",
       "      <th>0</th>\n",
       "      <td>6317637</td>\n",
       "      <td>Le Petit Souffle</td>\n",
       "      <td>162</td>\n",
       "      <td>Makati City</td>\n",
       "      <td>Third Floor, Century City Mall, Kalayaan Avenu...</td>\n",
       "      <td>Century City Mall, Poblacion, Makati City</td>\n",
       "      <td>Century City Mall, Poblacion, Makati City, Mak...</td>\n",
       "      <td>121.027535</td>\n",
       "      <td>14.565443</td>\n",
       "      <td>French, Japanese, Desserts</td>\n",
       "      <td>1100</td>\n",
       "      <td>Botswana Pula(P)</td>\n",
       "      <td>Yes</td>\n",
       "      <td>No</td>\n",
       "      <td>No</td>\n",
       "      <td>No</td>\n",
       "      <td>3</td>\n",
       "      <td>4.8</td>\n",
       "      <td>Dark Green</td>\n",
       "      <td>Excellent</td>\n",
       "      <td>314</td>\n",
       "    </tr>\n",
       "    <tr>\n",
       "      <th>1</th>\n",
       "      <td>6304287</td>\n",
       "      <td>Izakaya Kikufuji</td>\n",
       "      <td>162</td>\n",
       "      <td>Makati City</td>\n",
       "      <td>Little Tokyo, 2277 Chino Roces Avenue, Legaspi...</td>\n",
       "      <td>Little Tokyo, Legaspi Village, Makati City</td>\n",
       "      <td>Little Tokyo, Legaspi Village, Makati City, Ma...</td>\n",
       "      <td>121.014101</td>\n",
       "      <td>14.553708</td>\n",
       "      <td>Japanese</td>\n",
       "      <td>1200</td>\n",
       "      <td>Botswana Pula(P)</td>\n",
       "      <td>Yes</td>\n",
       "      <td>No</td>\n",
       "      <td>No</td>\n",
       "      <td>No</td>\n",
       "      <td>3</td>\n",
       "      <td>4.5</td>\n",
       "      <td>Dark Green</td>\n",
       "      <td>Excellent</td>\n",
       "      <td>591</td>\n",
       "    </tr>\n",
       "    <tr>\n",
       "      <th>2</th>\n",
       "      <td>6300002</td>\n",
       "      <td>Heat - Edsa Shangri-La</td>\n",
       "      <td>162</td>\n",
       "      <td>Mandaluyong City</td>\n",
       "      <td>Edsa Shangri-La, 1 Garden Way, Ortigas, Mandal...</td>\n",
       "      <td>Edsa Shangri-La, Ortigas, Mandaluyong City</td>\n",
       "      <td>Edsa Shangri-La, Ortigas, Mandaluyong City, Ma...</td>\n",
       "      <td>121.056831</td>\n",
       "      <td>14.581404</td>\n",
       "      <td>Seafood, Asian, Filipino, Indian</td>\n",
       "      <td>4000</td>\n",
       "      <td>Botswana Pula(P)</td>\n",
       "      <td>Yes</td>\n",
       "      <td>No</td>\n",
       "      <td>No</td>\n",
       "      <td>No</td>\n",
       "      <td>4</td>\n",
       "      <td>4.4</td>\n",
       "      <td>Green</td>\n",
       "      <td>Very Good</td>\n",
       "      <td>270</td>\n",
       "    </tr>\n",
       "    <tr>\n",
       "      <th>3</th>\n",
       "      <td>6318506</td>\n",
       "      <td>Ooma</td>\n",
       "      <td>162</td>\n",
       "      <td>Mandaluyong City</td>\n",
       "      <td>Third Floor, Mega Fashion Hall, SM Megamall, O...</td>\n",
       "      <td>SM Megamall, Ortigas, Mandaluyong City</td>\n",
       "      <td>SM Megamall, Ortigas, Mandaluyong City, Mandal...</td>\n",
       "      <td>121.056475</td>\n",
       "      <td>14.585318</td>\n",
       "      <td>Japanese, Sushi</td>\n",
       "      <td>1500</td>\n",
       "      <td>Botswana Pula(P)</td>\n",
       "      <td>No</td>\n",
       "      <td>No</td>\n",
       "      <td>No</td>\n",
       "      <td>No</td>\n",
       "      <td>4</td>\n",
       "      <td>4.9</td>\n",
       "      <td>Dark Green</td>\n",
       "      <td>Excellent</td>\n",
       "      <td>365</td>\n",
       "    </tr>\n",
       "    <tr>\n",
       "      <th>4</th>\n",
       "      <td>6314302</td>\n",
       "      <td>Sambo Kojin</td>\n",
       "      <td>162</td>\n",
       "      <td>Mandaluyong City</td>\n",
       "      <td>Third Floor, Mega Atrium, SM Megamall, Ortigas...</td>\n",
       "      <td>SM Megamall, Ortigas, Mandaluyong City</td>\n",
       "      <td>SM Megamall, Ortigas, Mandaluyong City, Mandal...</td>\n",
       "      <td>121.057508</td>\n",
       "      <td>14.584450</td>\n",
       "      <td>Japanese, Korean</td>\n",
       "      <td>1500</td>\n",
       "      <td>Botswana Pula(P)</td>\n",
       "      <td>Yes</td>\n",
       "      <td>No</td>\n",
       "      <td>No</td>\n",
       "      <td>No</td>\n",
       "      <td>4</td>\n",
       "      <td>4.8</td>\n",
       "      <td>Dark Green</td>\n",
       "      <td>Excellent</td>\n",
       "      <td>229</td>\n",
       "    </tr>\n",
       "  </tbody>\n",
       "</table>\n",
       "</div>"
      ],
      "text/plain": [
       "   Restaurant ID         Restaurant Name  Country Code              City  \\\n",
       "0        6317637        Le Petit Souffle           162       Makati City   \n",
       "1        6304287        Izakaya Kikufuji           162       Makati City   \n",
       "2        6300002  Heat - Edsa Shangri-La           162  Mandaluyong City   \n",
       "3        6318506                    Ooma           162  Mandaluyong City   \n",
       "4        6314302             Sambo Kojin           162  Mandaluyong City   \n",
       "\n",
       "                                             Address  \\\n",
       "0  Third Floor, Century City Mall, Kalayaan Avenu...   \n",
       "1  Little Tokyo, 2277 Chino Roces Avenue, Legaspi...   \n",
       "2  Edsa Shangri-La, 1 Garden Way, Ortigas, Mandal...   \n",
       "3  Third Floor, Mega Fashion Hall, SM Megamall, O...   \n",
       "4  Third Floor, Mega Atrium, SM Megamall, Ortigas...   \n",
       "\n",
       "                                     Locality  \\\n",
       "0   Century City Mall, Poblacion, Makati City   \n",
       "1  Little Tokyo, Legaspi Village, Makati City   \n",
       "2  Edsa Shangri-La, Ortigas, Mandaluyong City   \n",
       "3      SM Megamall, Ortigas, Mandaluyong City   \n",
       "4      SM Megamall, Ortigas, Mandaluyong City   \n",
       "\n",
       "                                    Locality Verbose   Longitude   Latitude  \\\n",
       "0  Century City Mall, Poblacion, Makati City, Mak...  121.027535  14.565443   \n",
       "1  Little Tokyo, Legaspi Village, Makati City, Ma...  121.014101  14.553708   \n",
       "2  Edsa Shangri-La, Ortigas, Mandaluyong City, Ma...  121.056831  14.581404   \n",
       "3  SM Megamall, Ortigas, Mandaluyong City, Mandal...  121.056475  14.585318   \n",
       "4  SM Megamall, Ortigas, Mandaluyong City, Mandal...  121.057508  14.584450   \n",
       "\n",
       "                           Cuisines  Average Cost for two          Currency  \\\n",
       "0        French, Japanese, Desserts                  1100  Botswana Pula(P)   \n",
       "1                          Japanese                  1200  Botswana Pula(P)   \n",
       "2  Seafood, Asian, Filipino, Indian                  4000  Botswana Pula(P)   \n",
       "3                   Japanese, Sushi                  1500  Botswana Pula(P)   \n",
       "4                  Japanese, Korean                  1500  Botswana Pula(P)   \n",
       "\n",
       "  Has Table booking Has Online delivery Is delivering now  \\\n",
       "0               Yes                  No                No   \n",
       "1               Yes                  No                No   \n",
       "2               Yes                  No                No   \n",
       "3                No                  No                No   \n",
       "4               Yes                  No                No   \n",
       "\n",
       "  Switch to order menu  Price range  Aggregate rating Rating color  \\\n",
       "0                   No            3               4.8   Dark Green   \n",
       "1                   No            3               4.5   Dark Green   \n",
       "2                   No            4               4.4        Green   \n",
       "3                   No            4               4.9   Dark Green   \n",
       "4                   No            4               4.8   Dark Green   \n",
       "\n",
       "  Rating text  Votes  \n",
       "0   Excellent    314  \n",
       "1   Excellent    591  \n",
       "2   Very Good    270  \n",
       "3   Excellent    365  \n",
       "4   Excellent    229  "
      ]
     },
     "execution_count": 2,
     "metadata": {},
     "output_type": "execute_result"
    }
   ],
   "source": [
    "df = pd.read_csv(\"Dataset .csv\")\n",
    "pd.set_option('display.max_columns',21)\n",
    "df.head()"
   ]
  },
  {
   "cell_type": "markdown",
   "id": "eccae89a",
   "metadata": {},
   "source": [
    "## Task1: Restaurant Reviews\n",
    "1. Analyze the text reviews to identify the most common positive and negative keywords.\n",
    "2. Calculate the average length of reviews and explore if there is a relationship between review length and rating."
   ]
  },
  {
   "cell_type": "code",
   "execution_count": 3,
   "id": "df936ee7",
   "metadata": {},
   "outputs": [],
   "source": [
    "df.columns = df.columns.str.lower()"
   ]
  },
  {
   "cell_type": "code",
   "execution_count": 4,
   "id": "a0fb3547",
   "metadata": {},
   "outputs": [
    {
     "data": {
      "text/plain": [
       "Index(['restaurant id', 'restaurant name', 'country code', 'city', 'address',\n",
       "       'locality', 'locality verbose', 'longitude', 'latitude', 'cuisines',\n",
       "       'average cost for two', 'currency', 'has table booking',\n",
       "       'has online delivery', 'is delivering now', 'switch to order menu',\n",
       "       'price range', 'aggregate rating', 'rating color', 'rating text',\n",
       "       'votes'],\n",
       "      dtype='object')"
      ]
     },
     "execution_count": 4,
     "metadata": {},
     "output_type": "execute_result"
    }
   ],
   "source": [
    "df.columns"
   ]
  },
  {
   "cell_type": "code",
   "execution_count": 5,
   "id": "f9fdad02",
   "metadata": {},
   "outputs": [
    {
     "data": {
      "text/plain": [
       "array(['Excellent', 'Very Good', 'Good', 'Average', 'Not rated', 'Poor'],\n",
       "      dtype=object)"
      ]
     },
     "execution_count": 5,
     "metadata": {},
     "output_type": "execute_result"
    }
   ],
   "source": [
    "df['rating text'].unique()"
   ]
  },
  {
   "cell_type": "code",
   "execution_count": 6,
   "id": "f09f2413",
   "metadata": {},
   "outputs": [
    {
     "data": {
      "text/html": [
       "<div>\n",
       "<style scoped>\n",
       "    .dataframe tbody tr th:only-of-type {\n",
       "        vertical-align: middle;\n",
       "    }\n",
       "\n",
       "    .dataframe tbody tr th {\n",
       "        vertical-align: top;\n",
       "    }\n",
       "\n",
       "    .dataframe thead th {\n",
       "        text-align: right;\n",
       "    }\n",
       "</style>\n",
       "<table border=\"1\" class=\"dataframe\">\n",
       "  <thead>\n",
       "    <tr style=\"text-align: right;\">\n",
       "      <th></th>\n",
       "      <th>rating text</th>\n",
       "      <th>count</th>\n",
       "    </tr>\n",
       "  </thead>\n",
       "  <tbody>\n",
       "    <tr>\n",
       "      <th>0</th>\n",
       "      <td>Average</td>\n",
       "      <td>3737</td>\n",
       "    </tr>\n",
       "    <tr>\n",
       "      <th>3</th>\n",
       "      <td>Not rated</td>\n",
       "      <td>2148</td>\n",
       "    </tr>\n",
       "    <tr>\n",
       "      <th>2</th>\n",
       "      <td>Good</td>\n",
       "      <td>2100</td>\n",
       "    </tr>\n",
       "    <tr>\n",
       "      <th>5</th>\n",
       "      <td>Very Good</td>\n",
       "      <td>1079</td>\n",
       "    </tr>\n",
       "    <tr>\n",
       "      <th>1</th>\n",
       "      <td>Excellent</td>\n",
       "      <td>301</td>\n",
       "    </tr>\n",
       "    <tr>\n",
       "      <th>4</th>\n",
       "      <td>Poor</td>\n",
       "      <td>186</td>\n",
       "    </tr>\n",
       "  </tbody>\n",
       "</table>\n",
       "</div>"
      ],
      "text/plain": [
       "  rating text  count\n",
       "0     Average   3737\n",
       "3   Not rated   2148\n",
       "2        Good   2100\n",
       "5   Very Good   1079\n",
       "1   Excellent    301\n",
       "4        Poor    186"
      ]
     },
     "execution_count": 6,
     "metadata": {},
     "output_type": "execute_result"
    }
   ],
   "source": [
    "rating_text = df.groupby('rating text',as_index=False).size().rename(columns={'size':'count'}).sort_values('count',ascending=False)\n",
    "rating_text"
   ]
  },
  {
   "cell_type": "code",
   "execution_count": 7,
   "id": "64d478e3",
   "metadata": {},
   "outputs": [
    {
     "data": {
      "image/png": "[encoded data removed]",
      "text/plain": [
       "<Figure size 640x480 with 1 Axes>"
      ]
     },
     "metadata": {},
     "output_type": "display_data"
    }
   ],
   "source": [
    "x= sns.barplot(x='rating text',y='count',data=rating_text)\n",
    "for bar in x.containers:\n",
    "    x.bar_label(bar)\n",
    "plt.title(\"Rating text Counts for Restaurants\")\n",
    "plt.show()"
   ]
  },
  {
   "cell_type": "markdown",
   "id": "9cab3241",
   "metadata": {},
   "source": [
    "#### By this visualization it can be concluded that the most common \"positive\" rating given to restaurants is \"good\" and the most common \"negative\" rating is \"poor\" which is given to very few of the restaurants. Also the most common rating given is \"Average\". "
   ]
  },
  {
   "cell_type": "code",
   "execution_count": 8,
   "id": "c24aaea4",
   "metadata": {},
   "outputs": [
    {
     "data": {
      "image/png": "[encoded data removed]",
      "text/plain": [
       "<Figure size 640x480 with 1 Axes>"
      ]
     },
     "metadata": {},
     "output_type": "display_data"
    }
   ],
   "source": [
    "review_df = df.groupby('rating text',as_index=False).agg({'aggregate rating':'mean'}).sort_values('aggregate rating',ascending=False)\n",
    "review_df['rating text'] = review_df['rating text'].replace('Very Good','VeryGood')\n",
    "review_df['review_length'] = review_df['rating text'].apply(len)\n",
    "review_df = review_df.merge(rating_text)\n",
    "sns.barplot(x= 'rating text',y='count',hue='review_length',data=review_df)\n",
    "plt.show()"
   ]
  },
  {
   "cell_type": "markdown",
   "id": "4bef40a3",
   "metadata": {},
   "source": [
    "### From this visualization we can see that there is no specific relationship between review text and review length"
   ]
  },
  {
   "cell_type": "markdown",
   "id": "ea27bde2",
   "metadata": {},
   "source": [
    "## Task2: Votes Analysis\n",
    "1. Identify the restaurants with the highest and lowest number of votes.\n",
    "2. Analyze if there is a correlation between the number of votes and the rating of a restaurant."
   ]
  },
  {
   "cell_type": "code",
   "execution_count": 9,
   "id": "826049fa",
   "metadata": {
    "scrolled": true
   },
   "outputs": [
    {
     "data": {
      "text/html": [
       "<div>\n",
       "<style scoped>\n",
       "    .dataframe tbody tr th:only-of-type {\n",
       "        vertical-align: middle;\n",
       "    }\n",
       "\n",
       "    .dataframe tbody tr th {\n",
       "        vertical-align: top;\n",
       "    }\n",
       "\n",
       "    .dataframe thead th {\n",
       "        text-align: right;\n",
       "    }\n",
       "</style>\n",
       "<table border=\"1\" class=\"dataframe\">\n",
       "  <thead>\n",
       "    <tr style=\"text-align: right;\">\n",
       "      <th></th>\n",
       "      <th>restaurant name</th>\n",
       "      <th>votes</th>\n",
       "      <th>city</th>\n",
       "      <th>address</th>\n",
       "      <th>aggregate rating</th>\n",
       "    </tr>\n",
       "  </thead>\n",
       "  <tbody>\n",
       "    <tr>\n",
       "      <th>0</th>\n",
       "      <td>#hashtag</td>\n",
       "      <td>0</td>\n",
       "      <td>New Delhi</td>\n",
       "      <td>1092/1, Mehrauli Bus Stand, Mehrauli, New Delhi</td>\n",
       "      <td>0.0</td>\n",
       "    </tr>\n",
       "    <tr>\n",
       "      <th>1</th>\n",
       "      <td>13 Cafe</td>\n",
       "      <td>0</td>\n",
       "      <td>New Delhi</td>\n",
       "      <td>4/175, Subhash Nagar, New Delhi</td>\n",
       "      <td>0.0</td>\n",
       "    </tr>\n",
       "    <tr>\n",
       "      <th>2</th>\n",
       "      <td>34, Chowringhee Lane</td>\n",
       "      <td>0</td>\n",
       "      <td>New Delhi</td>\n",
       "      <td>Shop 68, Vasant Place Market, Sector 6, R K Pu...</td>\n",
       "      <td>0.0</td>\n",
       "    </tr>\n",
       "    <tr>\n",
       "      <th>3</th>\n",
       "      <td>3x Cafe</td>\n",
       "      <td>0</td>\n",
       "      <td>New Delhi</td>\n",
       "      <td>22, RU Block, Opposite Power House, Pitampura,...</td>\n",
       "      <td>0.0</td>\n",
       "    </tr>\n",
       "    <tr>\n",
       "      <th>4</th>\n",
       "      <td>44 Grills</td>\n",
       "      <td>0</td>\n",
       "      <td>Noida</td>\n",
       "      <td>Street 3, Sector 44, Noida</td>\n",
       "      <td>0.0</td>\n",
       "    </tr>\n",
       "    <tr>\n",
       "      <th>...</th>\n",
       "      <td>...</td>\n",
       "      <td>...</td>\n",
       "      <td>...</td>\n",
       "      <td>...</td>\n",
       "      <td>...</td>\n",
       "    </tr>\n",
       "    <tr>\n",
       "      <th>1089</th>\n",
       "      <td>Zaika Muradabadi</td>\n",
       "      <td>0</td>\n",
       "      <td>New Delhi</td>\n",
       "      <td>Shop 27/6, Garhi Main Market, East of Kailash,...</td>\n",
       "      <td>0.0</td>\n",
       "    </tr>\n",
       "    <tr>\n",
       "      <th>1090</th>\n",
       "      <td>Zaika Restaurant</td>\n",
       "      <td>0</td>\n",
       "      <td>New Delhi</td>\n",
       "      <td>B-83, Ganesh Nagar Complex, Pandav Nagar, New ...</td>\n",
       "      <td>0.0</td>\n",
       "    </tr>\n",
       "    <tr>\n",
       "      <th>1091</th>\n",
       "      <td>Zaika-E-Chaap Express</td>\n",
       "      <td>0</td>\n",
       "      <td>New Delhi</td>\n",
       "      <td>Near Police Chowki, Golchakkar, R Block, Dilsh...</td>\n",
       "      <td>0.0</td>\n",
       "    </tr>\n",
       "    <tr>\n",
       "      <th>1092</th>\n",
       "      <td>Zayka chicken restaurant</td>\n",
       "      <td>0</td>\n",
       "      <td>New Delhi</td>\n",
       "      <td>C 31, Acharya niketan, Mayur Vihar Phase 1, Ne...</td>\n",
       "      <td>0.0</td>\n",
       "    </tr>\n",
       "    <tr>\n",
       "      <th>1093</th>\n",
       "      <td>Zombiez</td>\n",
       "      <td>0</td>\n",
       "      <td>New Delhi</td>\n",
       "      <td>E 379, Khosla Complex, Samrat Apartment, Vasun...</td>\n",
       "      <td>0.0</td>\n",
       "    </tr>\n",
       "  </tbody>\n",
       "</table>\n",
       "<p>1094 rows × 5 columns</p>\n",
       "</div>"
      ],
      "text/plain": [
       "               restaurant name  votes       city  \\\n",
       "0                     #hashtag      0  New Delhi   \n",
       "1                      13 Cafe      0  New Delhi   \n",
       "2         34, Chowringhee Lane      0  New Delhi   \n",
       "3                      3x Cafe      0  New Delhi   \n",
       "4                    44 Grills      0      Noida   \n",
       "...                        ...    ...        ...   \n",
       "1089          Zaika Muradabadi      0  New Delhi   \n",
       "1090          Zaika Restaurant      0  New Delhi   \n",
       "1091     Zaika-E-Chaap Express      0  New Delhi   \n",
       "1092  Zayka chicken restaurant      0  New Delhi   \n",
       "1093                   Zombiez      0  New Delhi   \n",
       "\n",
       "                                                address  aggregate rating  \n",
       "0       1092/1, Mehrauli Bus Stand, Mehrauli, New Delhi               0.0  \n",
       "1                       4/175, Subhash Nagar, New Delhi               0.0  \n",
       "2     Shop 68, Vasant Place Market, Sector 6, R K Pu...               0.0  \n",
       "3     22, RU Block, Opposite Power House, Pitampura,...               0.0  \n",
       "4                            Street 3, Sector 44, Noida               0.0  \n",
       "...                                                 ...               ...  \n",
       "1089  Shop 27/6, Garhi Main Market, East of Kailash,...               0.0  \n",
       "1090  B-83, Ganesh Nagar Complex, Pandav Nagar, New ...               0.0  \n",
       "1091  Near Police Chowki, Golchakkar, R Block, Dilsh...               0.0  \n",
       "1092  C 31, Acharya niketan, Mayur Vihar Phase 1, Ne...               0.0  \n",
       "1093  E 379, Khosla Complex, Samrat Apartment, Vasun...               0.0  \n",
       "\n",
       "[1094 rows x 5 columns]"
      ]
     },
     "execution_count": 9,
     "metadata": {},
     "output_type": "execute_result"
    }
   ],
   "source": [
    "lowest_rating_restaurants  =  df[df['votes']==0]\n",
    "lowest_rating_restaurants.groupby(['restaurant name','votes','city','address'],as_index=False).agg({'aggregate rating':'mean'})"
   ]
  },
  {
   "cell_type": "markdown",
   "id": "c1ab6bb0",
   "metadata": {},
   "source": [
    "## From this dataset we can conclude that more than 1000 restaurants are voted 0"
   ]
  },
  {
   "cell_type": "code",
   "execution_count": 10,
   "id": "b39dc71c",
   "metadata": {},
   "outputs": [
    {
     "data": {
      "text/html": [
       "<div>\n",
       "<style scoped>\n",
       "    .dataframe tbody tr th:only-of-type {\n",
       "        vertical-align: middle;\n",
       "    }\n",
       "\n",
       "    .dataframe tbody tr th {\n",
       "        vertical-align: top;\n",
       "    }\n",
       "\n",
       "    .dataframe thead th {\n",
       "        text-align: right;\n",
       "    }\n",
       "</style>\n",
       "<table border=\"1\" class=\"dataframe\">\n",
       "  <thead>\n",
       "    <tr style=\"text-align: right;\">\n",
       "      <th></th>\n",
       "      <th>restaurant name</th>\n",
       "      <th>votes</th>\n",
       "      <th>city</th>\n",
       "      <th>address</th>\n",
       "      <th>aggregate rating</th>\n",
       "    </tr>\n",
       "  </thead>\n",
       "  <tbody>\n",
       "    <tr>\n",
       "      <th>8932</th>\n",
       "      <td>Toit</td>\n",
       "      <td>10934</td>\n",
       "      <td>Bangalore</td>\n",
       "      <td>298, Namma Metro Pillar 62, 100 Feet Road, Ind...</td>\n",
       "      <td>4.8</td>\n",
       "    </tr>\n",
       "    <tr>\n",
       "      <th>8987</th>\n",
       "      <td>Truffles</td>\n",
       "      <td>9667</td>\n",
       "      <td>Bangalore</td>\n",
       "      <td>28, 4th 'B' Cross, Koramangala 5th Block, Bang...</td>\n",
       "      <td>4.7</td>\n",
       "    </tr>\n",
       "    <tr>\n",
       "      <th>3883</th>\n",
       "      <td>Hauz Khas Social</td>\n",
       "      <td>7931</td>\n",
       "      <td>New Delhi</td>\n",
       "      <td>9-A &amp; 12, Hauz Khas Village, New Delhi</td>\n",
       "      <td>4.3</td>\n",
       "    </tr>\n",
       "    <tr>\n",
       "      <th>6356</th>\n",
       "      <td>Peter Cat</td>\n",
       "      <td>7574</td>\n",
       "      <td>Kolkata</td>\n",
       "      <td>18A, Park Street, Park Street Area, Kolkata</td>\n",
       "      <td>4.3</td>\n",
       "    </tr>\n",
       "    <tr>\n",
       "      <th>122</th>\n",
       "      <td>AB's - Absolute Barbecues</td>\n",
       "      <td>6907</td>\n",
       "      <td>Bangalore</td>\n",
       "      <td>90/4, 3rd Floor, Outer Ring Road, Munnekollaly...</td>\n",
       "      <td>4.6</td>\n",
       "    </tr>\n",
       "    <tr>\n",
       "      <th>818</th>\n",
       "      <td>Barbeque Nation</td>\n",
       "      <td>5966</td>\n",
       "      <td>Kolkata</td>\n",
       "      <td>K1, RDB Boulevard, Block EP &amp; GP, Sector 5, Sa...</td>\n",
       "      <td>4.9</td>\n",
       "    </tr>\n",
       "    <tr>\n",
       "      <th>1022</th>\n",
       "      <td>Big Brewsky</td>\n",
       "      <td>5705</td>\n",
       "      <td>Bangalore</td>\n",
       "      <td>Behind MK Retail, Before WIPRO Corporate Offic...</td>\n",
       "      <td>4.5</td>\n",
       "    </tr>\n",
       "    <tr>\n",
       "      <th>121</th>\n",
       "      <td>AB's - Absolute Barbecues</td>\n",
       "      <td>5434</td>\n",
       "      <td>Hyderabad</td>\n",
       "      <td>Plot 483, 4th Floor, Pemmasani Complex, Bajaj ...</td>\n",
       "      <td>4.9</td>\n",
       "    </tr>\n",
       "    <tr>\n",
       "      <th>8365</th>\n",
       "      <td>The Black Pearl</td>\n",
       "      <td>5385</td>\n",
       "      <td>Bangalore</td>\n",
       "      <td>105, 1st A Cross Road, Jyothi Nivas College Ro...</td>\n",
       "      <td>4.1</td>\n",
       "    </tr>\n",
       "    <tr>\n",
       "      <th>787</th>\n",
       "      <td>BarBQ</td>\n",
       "      <td>5288</td>\n",
       "      <td>Kolkata</td>\n",
       "      <td>43-47-55, Park Street Area, Kolkata</td>\n",
       "      <td>4.2</td>\n",
       "    </tr>\n",
       "  </tbody>\n",
       "</table>\n",
       "</div>"
      ],
      "text/plain": [
       "                restaurant name  votes       city  \\\n",
       "8932                       Toit  10934  Bangalore   \n",
       "8987                   Truffles   9667  Bangalore   \n",
       "3883           Hauz Khas Social   7931  New Delhi   \n",
       "6356                  Peter Cat   7574    Kolkata   \n",
       "122   AB's - Absolute Barbecues   6907  Bangalore   \n",
       "818             Barbeque Nation   5966    Kolkata   \n",
       "1022                Big Brewsky   5705  Bangalore   \n",
       "121   AB's - Absolute Barbecues   5434  Hyderabad   \n",
       "8365            The Black Pearl   5385  Bangalore   \n",
       "787                       BarBQ   5288    Kolkata   \n",
       "\n",
       "                                                address  aggregate rating  \n",
       "8932  298, Namma Metro Pillar 62, 100 Feet Road, Ind...               4.8  \n",
       "8987  28, 4th 'B' Cross, Koramangala 5th Block, Bang...               4.7  \n",
       "3883             9-A & 12, Hauz Khas Village, New Delhi               4.3  \n",
       "6356        18A, Park Street, Park Street Area, Kolkata               4.3  \n",
       "122   90/4, 3rd Floor, Outer Ring Road, Munnekollaly...               4.6  \n",
       "818   K1, RDB Boulevard, Block EP & GP, Sector 5, Sa...               4.9  \n",
       "1022  Behind MK Retail, Before WIPRO Corporate Offic...               4.5  \n",
       "121   Plot 483, 4th Floor, Pemmasani Complex, Bajaj ...               4.9  \n",
       "8365  105, 1st A Cross Road, Jyothi Nivas College Ro...               4.1  \n",
       "787                 43-47-55, Park Street Area, Kolkata               4.2  "
      ]
     },
     "execution_count": 10,
     "metadata": {},
     "output_type": "execute_result"
    }
   ],
   "source": [
    "highest_rating_restaurants = df.groupby(['restaurant name','votes','city','address'],as_index=False).agg({'aggregate rating':'mean'}).sort_values('votes',ascending=False)\n",
    "highest_rating_restaurants.head(10)"
   ]
  },
  {
   "cell_type": "code",
   "execution_count": 11,
   "id": "3869fadb",
   "metadata": {},
   "outputs": [
    {
     "data": {
      "image/png": "[encoded data removed]",
      "text/plain": [
       "<Figure size 2400x1000 with 1 Axes>"
      ]
     },
     "metadata": {},
     "output_type": "display_data"
    }
   ],
   "source": [
    "sns.set(rc={'figure.figsize':(24,10)})\n",
    "sns.barplot(x='restaurant name',y='votes',hue='city',data=highest_rating_restaurants.head(10))\n",
    "plt.title(\"Top 10 Voted Restaurants\",fontsize=25)\n",
    "plt.show()"
   ]
  },
  {
   "cell_type": "code",
   "execution_count": 12,
   "id": "09a9718c",
   "metadata": {},
   "outputs": [
    {
     "data": {
      "text/html": [
       "<div>\n",
       "<style scoped>\n",
       "    .dataframe tbody tr th:only-of-type {\n",
       "        vertical-align: middle;\n",
       "    }\n",
       "\n",
       "    .dataframe tbody tr th {\n",
       "        vertical-align: top;\n",
       "    }\n",
       "\n",
       "    .dataframe thead th {\n",
       "        text-align: right;\n",
       "    }\n",
       "</style>\n",
       "<table border=\"1\" class=\"dataframe\">\n",
       "  <thead>\n",
       "    <tr style=\"text-align: right;\">\n",
       "      <th></th>\n",
       "      <th>votes</th>\n",
       "      <th>aggregate rating</th>\n",
       "    </tr>\n",
       "  </thead>\n",
       "  <tbody>\n",
       "    <tr>\n",
       "      <th>votes</th>\n",
       "      <td>1.000000</td>\n",
       "      <td>0.376689</td>\n",
       "    </tr>\n",
       "    <tr>\n",
       "      <th>aggregate rating</th>\n",
       "      <td>0.376689</td>\n",
       "      <td>1.000000</td>\n",
       "    </tr>\n",
       "  </tbody>\n",
       "</table>\n",
       "</div>"
      ],
      "text/plain": [
       "                     votes  aggregate rating\n",
       "votes             1.000000          0.376689\n",
       "aggregate rating  0.376689          1.000000"
      ]
     },
     "execution_count": 12,
     "metadata": {},
     "output_type": "execute_result"
    }
   ],
   "source": [
    "# 2. Analyze if there is a correlation between the number of votes and the rating of a restaurant.\n",
    "\n",
    "df3 = df.groupby('votes',as_index=False).agg({\"aggregate rating\":'mean'})\n",
    "cor = df3.corr()\n",
    "cor"
   ]
  },
  {
   "cell_type": "code",
   "execution_count": 13,
   "id": "2b33f863",
   "metadata": {},
   "outputs": [
    {
     "data": {
      "image/png": "[encoded data removed]",
      "text/plain": [
       "<Figure size 2400x1000 with 1 Axes>"
      ]
     },
     "metadata": {},
     "output_type": "display_data"
    }
   ],
   "source": [
    "cor.plot(kind = 'bar')\n",
    "plt.show()"
   ]
  },
  {
   "cell_type": "markdown",
   "id": "553989e4",
   "metadata": {},
   "source": [
    "### So the correlation between votes and aggregate ratings is 0.37 which is low, so we can say that both fields are not really related with each other, which means number of votes do not have a significant effect on  the aggregate rating of restaurant  and vice versa."
   ]
  },
  {
   "cell_type": "markdown",
   "id": "b9c83403",
   "metadata": {},
   "source": [
    "## Task3: Price Range vs. Online Delivery and Table Booking\n",
    "1. Analyze if there is a relationship between the price range and the availability of online delivery and table booking.\n",
    "2. Determine if higher-priced restaurants are more likely to offer these services.\n"
   ]
  },
  {
   "cell_type": "code",
   "execution_count": 14,
   "id": "5adebf32",
   "metadata": {},
   "outputs": [
    {
     "data": {
      "text/plain": [
       "Index(['restaurant id', 'restaurant name', 'country code', 'city', 'address',\n",
       "       'locality', 'locality verbose', 'longitude', 'latitude', 'cuisines',\n",
       "       'average cost for two', 'currency', 'has table booking',\n",
       "       'has online delivery', 'is delivering now', 'switch to order menu',\n",
       "       'price range', 'aggregate rating', 'rating color', 'rating text',\n",
       "       'votes'],\n",
       "      dtype='object')"
      ]
     },
     "execution_count": 14,
     "metadata": {},
     "output_type": "execute_result"
    }
   ],
   "source": [
    "df.columns"
   ]
  },
  {
   "cell_type": "code",
   "execution_count": 15,
   "id": "0972a1fe",
   "metadata": {
    "scrolled": true
   },
   "outputs": [
    {
     "data": {
      "text/html": [
       "<div>\n",
       "<style scoped>\n",
       "    .dataframe tbody tr th:only-of-type {\n",
       "        vertical-align: middle;\n",
       "    }\n",
       "\n",
       "    .dataframe tbody tr th {\n",
       "        vertical-align: top;\n",
       "    }\n",
       "\n",
       "    .dataframe thead th {\n",
       "        text-align: right;\n",
       "    }\n",
       "</style>\n",
       "<table border=\"1\" class=\"dataframe\">\n",
       "  <thead>\n",
       "    <tr style=\"text-align: right;\">\n",
       "      <th></th>\n",
       "      <th>price range</th>\n",
       "      <th>restaurant_with_table_booking</th>\n",
       "    </tr>\n",
       "  </thead>\n",
       "  <tbody>\n",
       "    <tr>\n",
       "      <th>price range</th>\n",
       "      <td>1.000000</td>\n",
       "      <td>0.594858</td>\n",
       "    </tr>\n",
       "    <tr>\n",
       "      <th>restaurant_with_table_booking</th>\n",
       "      <td>0.594858</td>\n",
       "      <td>1.000000</td>\n",
       "    </tr>\n",
       "  </tbody>\n",
       "</table>\n",
       "</div>"
      ],
      "text/plain": [
       "                               price range  restaurant_with_table_booking\n",
       "price range                       1.000000                       0.594858\n",
       "restaurant_with_table_booking     0.594858                       1.000000"
      ]
     },
     "execution_count": 15,
     "metadata": {},
     "output_type": "execute_result"
    }
   ],
   "source": [
    "with_table_booking = df[df['has table booking']=='Yes'].groupby('price range',as_index=False).size().rename(columns={'size':'restaurant_with_table_booking'})\n",
    "cor = with_table_booking.corr()\n",
    "cor"
   ]
  },
  {
   "cell_type": "markdown",
   "id": "13147752",
   "metadata": {},
   "source": [
    "###  By correlation of 0.59 price range and table booking are moderately correlated which means\n",
    "--- if the restaurant has table booking facility then it's price range will be slighly high because of this facility"
   ]
  },
  {
   "cell_type": "code",
   "execution_count": 16,
   "id": "95c4f977",
   "metadata": {},
   "outputs": [
    {
     "data": {
      "text/html": [
       "<div>\n",
       "<style scoped>\n",
       "    .dataframe tbody tr th:only-of-type {\n",
       "        vertical-align: middle;\n",
       "    }\n",
       "\n",
       "    .dataframe tbody tr th {\n",
       "        vertical-align: top;\n",
       "    }\n",
       "\n",
       "    .dataframe thead th {\n",
       "        text-align: right;\n",
       "    }\n",
       "</style>\n",
       "<table border=\"1\" class=\"dataframe\">\n",
       "  <thead>\n",
       "    <tr style=\"text-align: right;\">\n",
       "      <th></th>\n",
       "      <th>price range</th>\n",
       "      <th>restaurant_with_no_table_booking</th>\n",
       "    </tr>\n",
       "  </thead>\n",
       "  <tbody>\n",
       "    <tr>\n",
       "      <th>price range</th>\n",
       "      <td>1.000000</td>\n",
       "      <td>-0.974671</td>\n",
       "    </tr>\n",
       "    <tr>\n",
       "      <th>restaurant_with_no_table_booking</th>\n",
       "      <td>-0.974671</td>\n",
       "      <td>1.000000</td>\n",
       "    </tr>\n",
       "  </tbody>\n",
       "</table>\n",
       "</div>"
      ],
      "text/plain": [
       "                                  price range  \\\n",
       "price range                          1.000000   \n",
       "restaurant_with_no_table_booking    -0.974671   \n",
       "\n",
       "                                  restaurant_with_no_table_booking  \n",
       "price range                                              -0.974671  \n",
       "restaurant_with_no_table_booking                          1.000000  "
      ]
     },
     "execution_count": 16,
     "metadata": {},
     "output_type": "execute_result"
    }
   ],
   "source": [
    "No_table_booking = df[df['has table booking']=='No'].groupby('price range',as_index=False).size().rename(columns={'size':'restaurant_with_no_table_booking'})\n",
    "cor = No_table_booking.corr()\n",
    "cor"
   ]
  },
  {
   "cell_type": "markdown",
   "id": "d7b7bff7",
   "metadata": {},
   "source": [
    "###  By correlation of negative 0.97 price range and table booking are highly correlated which means\n",
    "--- if the restaurant do not have table booking facility then it's price range will be very low because of lack of this facility"
   ]
  },
  {
   "cell_type": "code",
   "execution_count": 17,
   "id": "8d0d32ce",
   "metadata": {},
   "outputs": [
    {
     "data": {
      "text/html": [
       "<div>\n",
       "<style scoped>\n",
       "    .dataframe tbody tr th:only-of-type {\n",
       "        vertical-align: middle;\n",
       "    }\n",
       "\n",
       "    .dataframe tbody tr th {\n",
       "        vertical-align: top;\n",
       "    }\n",
       "\n",
       "    .dataframe thead th {\n",
       "        text-align: right;\n",
       "    }\n",
       "</style>\n",
       "<table border=\"1\" class=\"dataframe\">\n",
       "  <thead>\n",
       "    <tr style=\"text-align: right;\">\n",
       "      <th></th>\n",
       "      <th>price range</th>\n",
       "      <th>restaurant_with_online_delivery</th>\n",
       "    </tr>\n",
       "  </thead>\n",
       "  <tbody>\n",
       "    <tr>\n",
       "      <th>price range</th>\n",
       "      <td>1.000000</td>\n",
       "      <td>-0.698202</td>\n",
       "    </tr>\n",
       "    <tr>\n",
       "      <th>restaurant_with_online_delivery</th>\n",
       "      <td>-0.698202</td>\n",
       "      <td>1.000000</td>\n",
       "    </tr>\n",
       "  </tbody>\n",
       "</table>\n",
       "</div>"
      ],
      "text/plain": [
       "                                 price range  restaurant_with_online_delivery\n",
       "price range                         1.000000                        -0.698202\n",
       "restaurant_with_online_delivery    -0.698202                         1.000000"
      ]
     },
     "execution_count": 17,
     "metadata": {},
     "output_type": "execute_result"
    }
   ],
   "source": [
    "with_online_delivery = df[df['has online delivery']=='Yes'].groupby('price range',as_index=False).size().rename(columns={'size':'restaurant_with_online_delivery'})\n",
    "cor = with_online_delivery.corr()\n",
    "cor"
   ]
  },
  {
   "cell_type": "code",
   "execution_count": 18,
   "id": "7bc9df97",
   "metadata": {},
   "outputs": [
    {
     "data": {
      "text/html": [
       "<div>\n",
       "<style scoped>\n",
       "    .dataframe tbody tr th:only-of-type {\n",
       "        vertical-align: middle;\n",
       "    }\n",
       "\n",
       "    .dataframe tbody tr th {\n",
       "        vertical-align: top;\n",
       "    }\n",
       "\n",
       "    .dataframe thead th {\n",
       "        text-align: right;\n",
       "    }\n",
       "</style>\n",
       "<table border=\"1\" class=\"dataframe\">\n",
       "  <thead>\n",
       "    <tr style=\"text-align: right;\">\n",
       "      <th></th>\n",
       "      <th>price range</th>\n",
       "      <th>restaurant_with_no_online_delivery</th>\n",
       "    </tr>\n",
       "  </thead>\n",
       "  <tbody>\n",
       "    <tr>\n",
       "      <th>price range</th>\n",
       "      <td>1.000000</td>\n",
       "      <td>-0.952993</td>\n",
       "    </tr>\n",
       "    <tr>\n",
       "      <th>restaurant_with_no_online_delivery</th>\n",
       "      <td>-0.952993</td>\n",
       "      <td>1.000000</td>\n",
       "    </tr>\n",
       "  </tbody>\n",
       "</table>\n",
       "</div>"
      ],
      "text/plain": [
       "                                    price range  \\\n",
       "price range                            1.000000   \n",
       "restaurant_with_no_online_delivery    -0.952993   \n",
       "\n",
       "                                    restaurant_with_no_online_delivery  \n",
       "price range                                                  -0.952993  \n",
       "restaurant_with_no_online_delivery                            1.000000  "
      ]
     },
     "execution_count": 18,
     "metadata": {},
     "output_type": "execute_result"
    }
   ],
   "source": [
    "no_online_delivery = df[df['has online delivery']=='No'].groupby('price range',as_index=False).size().rename(columns={'size':'restaurant_with_no_online_delivery'})\n",
    "cor = no_online_delivery.corr()\n",
    "cor"
   ]
  },
  {
   "cell_type": "markdown",
   "id": "ba9d29ad",
   "metadata": {},
   "source": [
    "### The Price range has negative correlation of 0.7 with online delivery means restaurants with online delivery offers a low price range and by the negative correlation of 0.95 we can say restaurants with no online delivery offer very cheap prices."
   ]
  }
 ],
 "metadata": {
  "kernelspec": {
   "display_name": "Python 3 (ipykernel)",
   "language": "python",
   "name": "python3"
  },
  "language_info": {
   "codemirror_mode": {
    "name": "ipython",
    "version": 3
   },
   "file_extension": ".py",
   "mimetype": "text/x-python",
   "name": "python",
   "nbconvert_exporter": "python",
   "pygments_lexer": "ipython3",
   "version": "3.9.18"
  }
 },
 "nbformat": 4,
 "nbformat_minor": 5
}
